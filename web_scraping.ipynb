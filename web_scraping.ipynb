{
 "cells": [
  {
   "cell_type": "code",
   "execution_count": 2,
   "metadata": {},
   "outputs": [
    {
     "name": "stdout",
     "output_type": "stream",
     "text": [
      "['U.S. Copyright Office | U.S. Copyright Office', '    | U.S. Copyright Office', 'Copyright Law', 'Copyright Small Claims', 'Search Copyright Records: Copyright Public Records Portal', 'New: Copyright Public Records System Pilot ', 'Copyright Historical Records Books (Preview)', 'Copyright Public Records Reading Room', 'Bulk Purchase of Copyright Office Records', 'Welcome to the U.S. Copyright Office', 'Welcome to the U.S. Copyright Office', 'The Copyright Claims Board (CCB)', 'The Copyright Claims Board (CCB)', 'The CCB is available to resolve copyright disputes of up to $30,000 as an efficient, less expensive alternative to federal court.', 'United States Copyright Office Strategic Plan', 'United States Copyright Office Strategic Plan', 'Women in the Copyright System', 'Women in the Copyright System', 'An Analysis of Women Authors in Copyright Registrations from 1978-2020. Read the report here.', 'What is Copyright?', 'Learn about the basics of copyright with our new online reference page.', 'Onsite Services in our offices in Washington, DC, are available by appointment. To submit claims, request certified copies of certificates or copyright deposits, or request searches, visit our Public Information Office by making an appointment here. For visits to our Copyright Public Records Reading Room only, make an appointment here.', 'Search Copyright Records', 'Register your work or learn more about the registration process with the Copyright Office.', 'Copyright Law', 'View current Copyright Law of the United States and related laws contained in Title 17 of the U.S.Code.', '  Copyright Small Claims ', 'Learn about the Copyright Claims Board', ' U.S. Copyright Law ', '  Compendium of U.S. Copyright Office Practices ', '  Copyright Modernization ', 'Upcoming Copyright Office public events', ' Copyright Office Announces Open Application Period for Ringer Fellowship | August 15 ', ' U.S. Copyright Office Concludes Study on Deferred Registration Examination | August 1  ', ' Copyright Office Expands Recordation System Access to the Public | August 1  ', ' U.S. Copyright Office Releases New Resource for Registering Non-Photographic Databases | July 28  ', ' U.S. Copyright Office Amends its Rules for Deposits of Single Issues of Serials | July 22 ', 'This featured video highlights The Orrin G. Hatch-Bob Goodlatte Music Modernization Act (Music Modernization Act) the most significant piece of copyright legislation in decades and updates our current laws to reflect modern consumer preferences and technological developments in the music marketplace.', 'U.S. Copyright Office']\n"
     ]
    }
   ],
   "source": [
    "#\n",
    "# SPDX-FileCopyrightText: Copyright 2022 Dilara Göksu\n",
    "#\n",
    "\n",
    "# Example of basic idea of the web scraping mechanism\n",
    "\n",
    "import requests\n",
    "from bs4 import BeautifulSoup\n",
    "\n",
    "response = requests.get(\"https://www.copyright.gov/\")\n",
    "\n",
    "soup = BeautifulSoup(response.content, \"html.parser\")\n",
    "\n",
    "print([text for text in soup.get_text().splitlines() if \"copyright\" in text.lower()])"
   ]
  }
 ],
 "metadata": {
  "kernelspec": {
   "display_name": "Python 3.9.13 ('venv_scraper')",
   "language": "python",
   "name": "python3"
  },
  "language_info": {
   "codemirror_mode": {
    "name": "ipython",
    "version": 3
   },
   "file_extension": ".py",
   "mimetype": "text/x-python",
   "name": "python",
   "nbconvert_exporter": "python",
   "pygments_lexer": "ipython3",
   "version": "3.9.13"
  },
  "orig_nbformat": 4,
  "vscode": {
   "interpreter": {
    "hash": "5d793993b4ec322ad0f000ff317d44fafc36a9f0fc4ceb034467b2bed1134a50"
   }
  }
 },
 "nbformat": 4,
 "nbformat_minor": 2
}
